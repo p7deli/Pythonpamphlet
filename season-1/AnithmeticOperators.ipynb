{
 "cells": [
  {
   "attachments": {},
   "cell_type": "markdown",
   "metadata": {},
   "source": [
    "# عملگر ها"
   ]
  },
  {
   "cell_type": "code",
   "execution_count": null,
   "metadata": {},
   "outputs": [],
   "source": [
    "# Operator             Name                    Example\n",
    "# ----------------------------------------------------\n",
    "# +          ->       Addition         ->       x + y\n",
    "# ----------------------------------------------------\n",
    "# -          ->       Subtraction      ->       x - y\n",
    "# ----------------------------------------------------\n",
    "# *          ->       Multiplication   ->       x * y\n",
    "# ----------------------------------------------------\n",
    "# /          ->       Division         ->       x / y\n",
    "# ----------------------------------------------------\n",
    "# %          ->       Modulus          ->       x % y\n",
    "# ----------------------------------------------------\n",
    "# **         ->       Exponentiation   ->       x ** y\n",
    "# ----------------------------------------------------\n",
    "# //         ->       Floor division   ->       x // y"
   ]
  },
  {
   "attachments": {},
   "cell_type": "markdown",
   "metadata": {},
   "source": [
    "# Addition"
   ]
  },
  {
   "cell_type": "code",
   "execution_count": null,
   "metadata": {},
   "outputs": [],
   "source": [
    "Addition = 5 + 8\n",
    "print(Addition)\n",
    "# 13 : خروجی"
   ]
  },
  {
   "attachments": {},
   "cell_type": "markdown",
   "metadata": {},
   "source": [
    "# Subtraction"
   ]
  },
  {
   "cell_type": "code",
   "execution_count": null,
   "metadata": {},
   "outputs": [],
   "source": [
    "Subtraction = 8 - 5\n",
    "print(Subtraction)\n",
    "# 3 : خروجی"
   ]
  },
  {
   "attachments": {},
   "cell_type": "markdown",
   "metadata": {},
   "source": [
    "# Multiplication"
   ]
  },
  {
   "cell_type": "code",
   "execution_count": null,
   "metadata": {},
   "outputs": [],
   "source": [
    "Multiplication = 2 * 5\n",
    "print(Multiplication)\n",
    "# 10 : خروجی"
   ]
  },
  {
   "attachments": {},
   "cell_type": "markdown",
   "metadata": {},
   "source": [
    "# Division"
   ]
  },
  {
   "cell_type": "code",
   "execution_count": null,
   "metadata": {},
   "outputs": [],
   "source": [
    "Division = 5 / 2\n",
    "print(Division)\n",
    "# 2.5 : خروجی"
   ]
  },
  {
   "attachments": {},
   "cell_type": "markdown",
   "metadata": {},
   "source": [
    "# Modulus"
   ]
  },
  {
   "cell_type": "code",
   "execution_count": null,
   "metadata": {},
   "outputs": [],
   "source": [
    "Modulus = 10 % 2\n",
    "print(Modulus)\n",
    "# 0 : خروجی"
   ]
  },
  {
   "attachments": {},
   "cell_type": "markdown",
   "metadata": {},
   "source": [
    "# Exponentiation"
   ]
  },
  {
   "cell_type": "code",
   "execution_count": null,
   "metadata": {},
   "outputs": [],
   "source": [
    "Exponentiation = 10 ** 2\n",
    "print(Exponentiation)\n",
    "# 100 : خروجی"
   ]
  },
  {
   "attachments": {},
   "cell_type": "markdown",
   "metadata": {},
   "source": [
    "# Floor division"
   ]
  },
  {
   "cell_type": "code",
   "execution_count": null,
   "metadata": {},
   "outputs": [],
   "source": [
    "Floor_division = 10 // 3\n",
    "print(Floor_division)\n",
    "# 3 : خروجی"
   ]
  }
 ],
 "metadata": {
  "kernelspec": {
   "display_name": "Python 3",
   "language": "python",
   "name": "python3"
  },
  "language_info": {
   "codemirror_mode": {
    "name": "ipython",
    "version": 3
   },
   "file_extension": ".py",
   "mimetype": "text/x-python",
   "name": "python",
   "nbconvert_exporter": "python",
   "pygments_lexer": "ipython3",
   "version": "3.10.10"
  },
  "orig_nbformat": 4
 },
 "nbformat": 4,
 "nbformat_minor": 2
}
