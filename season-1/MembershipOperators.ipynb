{
 "cells": [
  {
   "attachments": {},
   "cell_type": "markdown",
   "metadata": {},
   "source": [
    "# عملگرهای عضویت"
   ]
  },
  {
   "cell_type": "code",
   "execution_count": null,
   "metadata": {},
   "outputs": [],
   "source": [
    "# Operator             Description                                                      Example\n",
    "# -------------------------------------------------------------------------------------------------\n",
    "# in         ->        returns True if a sequence with the specified         ->         x in y\n",
    "#                      values is present in the object\n",
    "# -------------------------------------------------------------------------------------------------\n",
    "# not in     ->        returns True if a sequence with the specified         ->         x not in y\n",
    "#                      value is not present in the object        "
   ]
  },
  {
   "cell_type": "code",
   "execution_count": null,
   "metadata": {},
   "outputs": [],
   "source": [
    "# رشته ها\n",
    "\n",
    "x = \"25648\"\n",
    "print(\"25\" in x)\n",
    "# True  : خروجی\n",
    "\n",
    "\n",
    "\n",
    "x = \"25648\"\n",
    "print(\"25\" not in x)\n",
    "# False  : خروجی"
   ]
  },
  {
   "cell_type": "code",
   "execution_count": null,
   "metadata": {},
   "outputs": [],
   "source": [
    "# لیست ها\n",
    "\n",
    "l = [5, 6, 3, 5, 8]\n",
    "print(5 in l)\n",
    "# True  : خروجی\n",
    "\n",
    "\n",
    "print(5 not in l)\n",
    "# False  : خروجی"
   ]
  },
  {
   "cell_type": "code",
   "execution_count": null,
   "metadata": {},
   "outputs": [],
   "source": [
    "# تاپل ها\n",
    "\n",
    "t = (5, 6, 3, 5, 8)\n",
    "print(5 in l)\n",
    "# True  : خروجی\n",
    "\n",
    "\n",
    "print(5 not in l)\n",
    "# False  : خروجی"
   ]
  },
  {
   "cell_type": "code",
   "execution_count": null,
   "metadata": {},
   "outputs": [],
   "source": [
    "# دیکشنری ها\n",
    "\n",
    "d = {\"a\": 5, \"b\": 6}\n",
    "print(\"a\" in l)\n",
    "# True  : خروجی\n",
    "\n",
    "\n",
    "print(\"a\" not in l)\n",
    "# False  : خروجی"
   ]
  },
  {
   "attachments": {},
   "cell_type": "markdown",
   "metadata": {},
   "source": [
    "# عملگر های هویت"
   ]
  },
  {
   "cell_type": "code",
   "execution_count": null,
   "metadata": {},
   "outputs": [],
   "source": [
    "# Operator             Description                                                      Example\n",
    "# -------------------------------------------------------------------------------------------------\n",
    "# is         ->        returns True if both variables are the same         ->           x is y\n",
    "#                      object\n",
    "# -------------------------------------------------------------------------------------------------\n",
    "# is not     ->        returns True if both variables are not the          ->           x not is y\n",
    "#                      same object        "
   ]
  },
  {
   "cell_type": "code",
   "execution_count": null,
   "metadata": {},
   "outputs": [],
   "source": [
    "# رشته ها\n",
    "\n",
    "x = \"poria\"\n",
    "y = \"poria\"\n",
    "\n",
    "print(x is y)\n",
    "# True  : خروجی\n",
    "\n",
    "\n",
    "print(x is not y)\n",
    "# False  : خروجی"
   ]
  },
  {
   "cell_type": "code",
   "execution_count": null,
   "metadata": {},
   "outputs": [],
   "source": [
    "# اعداد\n",
    "x = 25\n",
    "y = 25\n",
    "\n",
    "print(x is y)\n",
    "# True  : خروجی\n",
    "\n",
    "\n",
    "print(x is not y)\n",
    "# False  : خروجی"
   ]
  },
  {
   "cell_type": "code",
   "execution_count": null,
   "metadata": {},
   "outputs": [],
   "source": [
    "# لیست ها\n",
    "\n",
    "l = [5, 6, 3, 5, 8]\n",
    "\n",
    "print(5 is l)\n",
    "# False  : خروجی\n",
    "\n",
    "\n",
    "print(5 is not l)\n",
    "# True  : خروجی"
   ]
  },
  {
   "cell_type": "code",
   "execution_count": null,
   "metadata": {},
   "outputs": [],
   "source": [
    "# تاپل ها\n",
    "\n",
    "t = (5, 6, 3, 5, 8)\n",
    "print(5 is l)\n",
    "# False  : خروجی\n",
    "\n",
    "\n",
    "print(5 is not l)\n",
    "# True  : خروجی"
   ]
  },
  {
   "cell_type": "code",
   "execution_count": null,
   "metadata": {},
   "outputs": [],
   "source": [
    "# دیکشنری ها\n",
    "\n",
    "d = {\"a\": 5, \"b\": 6}\n",
    "print(\"a\" is l)\n",
    "# False  : خروجی\n",
    "\n",
    "\n",
    "print(\"a\" is not l)\n",
    "# Ture  : خروجی"
   ]
  }
 ],
 "metadata": {
  "kernelspec": {
   "display_name": "Python 3",
   "language": "python",
   "name": "python3"
  },
  "language_info": {
   "codemirror_mode": {
    "name": "ipython",
    "version": 3
   },
   "file_extension": ".py",
   "mimetype": "text/x-python",
   "name": "python",
   "nbconvert_exporter": "python",
   "pygments_lexer": "ipython3",
   "version": "3.10.10"
  },
  "orig_nbformat": 4
 },
 "nbformat": 4,
 "nbformat_minor": 2
}
