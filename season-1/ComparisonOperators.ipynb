{
 "cells": [
  {
   "attachments": {},
   "cell_type": "markdown",
   "metadata": {},
   "source": [
    "# عملگر های مقایسه ای"
   ]
  },
  {
   "cell_type": "code",
   "execution_count": null,
   "metadata": {},
   "outputs": [],
   "source": [
    "# Operator           Name                                  Example\n",
    "# ----------------------------------------------------------------\n",
    "# ==       ->        Equal                       ->        x == y\n",
    "# ----------------------------------------------------------------\n",
    "# !=       ->        Not equal                   ->        x != y\n",
    "# ----------------------------------------------------------------\n",
    "# >        ->        Greater than                ->        x > y\n",
    "# ----------------------------------------------------------------\n",
    "# <        ->        Less than                   ->        x < y\n",
    "# ----------------------------------------------------------------\n",
    "# >=       ->        Greater than or equal to    ->       x >= y\n",
    "# ----------------------------------------------------------------\n",
    "# <=       ->        Less than or equal to       ->       x <= y"
   ]
  },
  {
   "cell_type": "code",
   "execution_count": null,
   "metadata": {},
   "outputs": [],
   "source": [
    "# Equal\n",
    "print(25 == 25)\n",
    "# True : خروجی"
   ]
  },
  {
   "cell_type": "code",
   "execution_count": null,
   "metadata": {},
   "outputs": [],
   "source": [
    "# Not equal\n",
    "print(25 != 25)\n",
    "# False : خروجی"
   ]
  },
  {
   "cell_type": "code",
   "execution_count": null,
   "metadata": {},
   "outputs": [],
   "source": [
    "# Greater than\n",
    "print(25 > 25)\n",
    "# False : خروجی"
   ]
  },
  {
   "cell_type": "code",
   "execution_count": null,
   "metadata": {},
   "outputs": [],
   "source": [
    "# Less than\n",
    "print(25 < 25)\n",
    "# False : خروجی"
   ]
  },
  {
   "cell_type": "code",
   "execution_count": null,
   "metadata": {},
   "outputs": [],
   "source": [
    "# Greater than or equal to\n",
    "print(25 >= 25)\n",
    "# True : خروجی"
   ]
  },
  {
   "cell_type": "code",
   "execution_count": null,
   "metadata": {},
   "outputs": [],
   "source": [
    "# Less than or equal to\n",
    "print(25 <= 25)\n",
    "# True : خروجی"
   ]
  },
  {
   "attachments": {},
   "cell_type": "markdown",
   "metadata": {},
   "source": [
    "### : حتی میتوانید در یک خروجی از همه این عملگرها استفاده کنید به عنوان مثال"
   ]
  },
  {
   "cell_type": "code",
   "execution_count": null,
   "metadata": {},
   "outputs": [],
   "source": [
    "print(25 == 25 > 6 < 25)\n",
    "# True  : خروجی"
   ]
  }
 ],
 "metadata": {
  "kernelspec": {
   "display_name": "Python 3",
   "language": "python",
   "name": "python3"
  },
  "language_info": {
   "codemirror_mode": {
    "name": "ipython",
    "version": 3
   },
   "file_extension": ".py",
   "mimetype": "text/x-python",
   "name": "python",
   "nbconvert_exporter": "python",
   "pygments_lexer": "ipython3",
   "version": "3.10.10"
  },
  "orig_nbformat": 4
 },
 "nbformat": 4,
 "nbformat_minor": 2
}
