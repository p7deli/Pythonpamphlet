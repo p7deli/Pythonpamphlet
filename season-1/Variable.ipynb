{
 "cells": [
  {
   "attachments": {},
   "cell_type": "markdown",
   "metadata": {},
   "source": [
    "# متغییر"
   ]
  },
  {
   "attachments": {},
   "cell_type": "markdown",
   "metadata": {},
   "source": [
    "متغیر در پایتون یک نام است که به یک مقدار یا شیء در حافظه اشاره می‌کند. مقدار متغیر می‌تواند عدد، رشته، لیست، تاپل، دیکشنری و ... باشد. برای تعریف یک متغیر در پایتون، نام متغیر را تعریف کرده و به آن یک مقدار اختصاص دهید. به عنوان مثال:"
   ]
  },
  {
   "cell_type": "code",
   "execution_count": null,
   "metadata": {},
   "outputs": [],
   "source": [
    "x = 5\n",
    "name = \"John\"\n",
    "my_list = [1, 2, 3]"
   ]
  },
  {
   "attachments": {},
   "cell_type": "markdown",
   "metadata": {},
   "source": [
    "در این مثال، x، name و my_list نام متغیرها هستند و به ترتیب به مقادیر 5، \"John\" و [1, 2, 3] اشاره می‌کنند. مقدار متغیرها می‌تواند در طول برنامه تغییر کند و می‌توانید از آنها در عملیات‌های مختلف استفاده کنید. برای مثال:"
   ]
  },
  {
   "cell_type": "code",
   "execution_count": null,
   "metadata": {},
   "outputs": [],
   "source": [
    "x = 5\n",
    "x = x + 1\n",
    "print(x) \n",
    "# خروجی : 6"
   ]
  },
  {
   "attachments": {},
   "cell_type": "markdown",
   "metadata": {},
   "source": [
    "در این مثال، مقدار x ابتدا برابر با 5 تعریف شده است. سپس با افزودن 1 به آن، مقدار x به 6 تغییر می‌کند و در نهایت با استفاده از دستور print، مقدار x چاپ می‌شود."
   ]
  },
  {
   "attachments": {},
   "cell_type": "markdown",
   "metadata": {},
   "source": [
    "چند نمونه مثال برای رفتار متغییر ها در پایتون و نحوه مقدار دهی آن ها"
   ]
  },
  {
   "cell_type": "code",
   "execution_count": null,
   "metadata": {},
   "outputs": [],
   "source": [
    "# در این مثال شما میبینید که رفتار متغییر ها در پایتون در هنگام استفاده از داده متغییر قبلی\n",
    "#  همان آدرس را نشان میدهد ینی در پایتون برای استفاده از مقدار متغییر قبلی \n",
    "# همان آدرس را خواهی داشت و آدرس جدیدی برای این ساخت متغییر ایجاد نمیشود\n",
    "x = 5\n",
    "print(id(x))\n",
    "b = x\n",
    "print(id(b))\n",
    "\n",
    "# 2091139072368\n",
    "# 2091139072368  : خروجی\n",
    "\n",
    "\n",
    "\n",
    "\n",
    "# در این مثال به راحتی میبینید که مقادیر دو متغییر میتوانید با هم دیگر جابه جا کنید\n",
    "a, b = 2, 5\n",
    "print(a, b)\n",
    "\n",
    "# 2 5 : خروجی\n",
    "\n",
    "a, b = b, a\n",
    "print(a, b)\n",
    "\n",
    "# 5 2 : خروجی "
   ]
  }
 ],
 "metadata": {
  "kernelspec": {
   "display_name": "Python 3",
   "language": "python",
   "name": "python3"
  },
  "language_info": {
   "codemirror_mode": {
    "name": "ipython",
    "version": 3
   },
   "file_extension": ".py",
   "mimetype": "text/x-python",
   "name": "python",
   "nbconvert_exporter": "python",
   "pygments_lexer": "ipython3",
   "version": "3.10.10"
  },
  "orig_nbformat": 4
 },
 "nbformat": 4,
 "nbformat_minor": 2
}
