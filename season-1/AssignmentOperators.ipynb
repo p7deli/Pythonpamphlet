{
 "cells": [
  {
   "attachments": {},
   "cell_type": "markdown",
   "metadata": {},
   "source": [
    "# عملگرهای انتصابی"
   ]
  },
  {
   "cell_type": "code",
   "execution_count": null,
   "metadata": {},
   "outputs": [],
   "source": [
    "# Operator             Example                 Same as\n",
    "# ----------------------------------------------------------\n",
    "# =           ->       x = 5         ->        x = 5\n",
    "# ----------------------------------------------------------\n",
    "# +=          ->       x += 5        ->        x = x + 5\n",
    "# ----------------------------------------------------------\n",
    "# -=          ->       x -= 5        ->        x = x - 5\n",
    "# ----------------------------------------------------------\n",
    "# /=          ->       x /= 5        ->        x = x / 5\n",
    "# ----------------------------------------------------------\n",
    "# %=          ->       x %= 5        ->        x = x % 5\n",
    "# ----------------------------------------------------------\n",
    "# //=         ->       x //= 5       ->        x = x // 5\n",
    "# ----------------------------------------------------------\n",
    "# **=         ->       x **= 5       ->        x = x ** 5\n",
    "# ----------------------------------------------------------\n",
    "# &=          ->       x &= 5        ->        x = x & 5\n",
    "# ----------------------------------------------------------\n",
    "# |=          ->       x |= 5        ->        x = x | 5\n",
    "# ----------------------------------------------------------\n",
    "# ^=          ->       x ^= 5        ->        x = x ^ 5\n",
    "# ----------------------------------------------------------\n",
    "# >>=         ->       x >>= 5       ->        x = x >> 5\n",
    "# ----------------------------------------------------------\n",
    "# <<=         ->       x <<= 5       ->        x = x << 5"
   ]
  },
  {
   "attachments": {},
   "cell_type": "markdown",
   "metadata": {},
   "source": [
    "# مثال ها"
   ]
  },
  {
   "cell_type": "code",
   "execution_count": null,
   "metadata": {},
   "outputs": [],
   "source": [
    "x = 5\n",
    "print(x)\n",
    "# 5 : خروجی"
   ]
  },
  {
   "cell_type": "code",
   "execution_count": null,
   "metadata": {},
   "outputs": [],
   "source": [
    "x = 5\n",
    "x += 6\n",
    "print(x)\n",
    "# 11 : خروجی"
   ]
  },
  {
   "cell_type": "code",
   "execution_count": null,
   "metadata": {},
   "outputs": [],
   "source": [
    "x = 10\n",
    "x -= 6\n",
    "print(x)\n",
    "# 4 : خروجی"
   ]
  },
  {
   "cell_type": "code",
   "execution_count": null,
   "metadata": {},
   "outputs": [],
   "source": [
    "x = 10\n",
    "x /= 2\n",
    "print(x)\n",
    "# 5.0 : خروجی"
   ]
  },
  {
   "cell_type": "code",
   "execution_count": null,
   "metadata": {},
   "outputs": [],
   "source": [
    "x = 10\n",
    "x %= 2\n",
    "print(x)\n",
    "# 0 : خروجی"
   ]
  },
  {
   "cell_type": "code",
   "execution_count": null,
   "metadata": {},
   "outputs": [],
   "source": [
    "x = 10\n",
    "x //= 3\n",
    "print(x)\n",
    "# 3 : خروجی"
   ]
  },
  {
   "cell_type": "code",
   "execution_count": null,
   "metadata": {},
   "outputs": [],
   "source": [
    "x = 10\n",
    "x **= 2\n",
    "print(x)\n",
    "# 100 : خروجی"
   ]
  },
  {
   "attachments": {},
   "cell_type": "markdown",
   "metadata": {},
   "source": [
    "# عملگر های بیتی"
   ]
  },
  {
   "cell_type": "code",
   "execution_count": null,
   "metadata": {},
   "outputs": [],
   "source": [
    "x = 10\n",
    "x &= 6\n",
    "print(x)\n",
    "# 2 : خروجی"
   ]
  }
 ],
 "metadata": {
  "kernelspec": {
   "display_name": "Python 3",
   "language": "python",
   "name": "python3"
  },
  "language_info": {
   "codemirror_mode": {
    "name": "ipython",
    "version": 3
   },
   "file_extension": ".py",
   "mimetype": "text/x-python",
   "name": "python",
   "nbconvert_exporter": "python",
   "pygments_lexer": "ipython3",
   "version": "3.10.10"
  },
  "orig_nbformat": 4
 },
 "nbformat": 4,
 "nbformat_minor": 2
}
