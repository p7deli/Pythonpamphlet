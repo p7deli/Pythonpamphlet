{
 "cells": [
  {
   "attachments": {},
   "cell_type": "markdown",
   "metadata": {},
   "source": [
    "# عملگر های منظقی"
   ]
  },
  {
   "cell_type": "code",
   "execution_count": null,
   "metadata": {},
   "outputs": [],
   "source": [
    "# Operator             Description                                                  Example\n",
    "# ------------------------------------------------------------------------------------------------------\n",
    "# and         ->       returns True if both statments are True            ->        x < 5 and x < 10\n",
    "# -------------------------------------------------------------------------------------------------------\n",
    "# or          ->       returns True if one of the statments is True       ->        x > 5 or x < 10\n",
    "# -------------------------------------------------------------------------------------------------------\n",
    "# not          ->      reverse the resulat, returns False if the result   ->        not(x > 10 and x > 5)\n",
    "#                      is True"
   ]
  },
  {
   "attachments": {},
   "cell_type": "markdown",
   "metadata": {},
   "source": [
    "#### قوانین این عملگرها به این صورت است"
   ]
  },
  {
   "cell_type": "code",
   "execution_count": null,
   "metadata": {},
   "outputs": [],
   "source": [
    "# * not =>         x             not x\n",
    "#                  False         True\n",
    "#                  True          False\n",
    "\n",
    "# ------------------------------------------------------\n",
    "\n",
    "# * and =>         x             y             x and y\n",
    "#                  False         False         False\n",
    "#                  True          False         False\n",
    "#                  False         True          False\n",
    "#                  True          True          True\n",
    "\n",
    "#-------------------------------------------------------\n",
    "\n",
    "# * or =>          x             y             x or y\n",
    "#                  False         False         False\n",
    "#                  True          False         True\n",
    "#                  False         True          True\n",
    "#                  True          True          True"
   ]
  }
 ],
 "metadata": {
  "language_info": {
   "name": "python"
  },
  "orig_nbformat": 4
 },
 "nbformat": 4,
 "nbformat_minor": 2
}
