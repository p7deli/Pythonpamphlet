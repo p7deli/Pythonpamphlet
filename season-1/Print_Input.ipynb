{
 "cells": [
  {
   "attachments": {},
   "cell_type": "markdown",
   "metadata": {},
   "source": [
    "# ورودی خروجی ها (input-print)"
   ]
  },
  {
   "attachments": {},
   "cell_type": "markdown",
   "metadata": {},
   "source": [
    "input():<br>\n",
    "وردی ها در پایتون بسیار ساده است با نوشتن کد بالا و قرار دادن آن در یک متغیر میتوانید ورودی را از کاربر بگیرید"
   ]
  },
  {
   "attachments": {},
   "cell_type": "markdown",
   "metadata": {},
   "source": [
    "ورودی ها سه نوع هستند:<br>\n",
    "str, float, int<br>\n",
    "str نوع وردی های: <br>\n",
    "str این نوع ورودی ها از نوع رشته هستند و برای تعریف این نوع ورودی ها نیازی به قرار دادن تابع<br>\n",
    ": نیست و به صورت دیفالت برای ورودی ها این نوع قرار دارد برای مثال"
   ]
  },
  {
   "cell_type": "code",
   "execution_count": null,
   "metadata": {},
   "outputs": [],
   "source": [
    "x = input(\"x: \")"
   ]
  },
  {
   "attachments": {},
   "cell_type": "markdown",
   "metadata": {},
   "source": [
    "float نوع دیگر ورودی ها<br>\n",
    "float این نوع ورودی ها از نوع اعداد اعشاری است و شما با قرار دادن تابع<br>\n",
    "میتوانید از کاربر درخواست وارد کردن اعداد اعشاری را بدهید برای مثال :"
   ]
  },
  {
   "cell_type": "code",
   "execution_count": null,
   "metadata": {},
   "outputs": [],
   "source": [
    "x = float(input(\"x: \"))"
   ]
  },
  {
   "attachments": {},
   "cell_type": "markdown",
   "metadata": {},
   "source": [
    "int نوع دیگر ورودی ها از نوع<br>\n",
    "این نوع ورودی برای دریافت اعداد صحیح از کاربر است به عنوان مثال : "
   ]
  },
  {
   "cell_type": "code",
   "execution_count": null,
   "metadata": {},
   "outputs": [],
   "source": [
    "x = int(input(\"x: \"))"
   ]
  },
  {
   "attachments": {},
   "cell_type": "markdown",
   "metadata": {},
   "source": [
    "print():<br>\n",
    "print() برای نمایش خروجی یک عبارت شما باید آن مقدار یا متغییر را داخل تابع<br>\n",
    "قراردهید برای مثال: "
   ]
  },
  {
   "cell_type": "code",
   "execution_count": null,
   "metadata": {},
   "outputs": [],
   "source": [
    "x = 5\n",
    "print(x)\n",
    "# یا\n",
    "print(\"x:\", x)"
   ]
  },
  {
   "attachments": {},
   "cell_type": "markdown",
   "metadata": {},
   "source": [
    "چند نوع نمونه مثال برای ورودی خروجی ها:"
   ]
  },
  {
   "cell_type": "code",
   "execution_count": null,
   "metadata": {},
   "outputs": [],
   "source": [
    "x1 = input(\"x1: \")\n",
    "print(\"x1:\", x1)\n",
    "\n",
    "x2 = int(input(\"x2: \"))\n",
    "print(\"x2:\", x2)\n",
    "\n",
    "x3 = float(input(\"x3: \"))\n",
    "print(\"x3:\", x3)"
   ]
  },
  {
   "attachments": {},
   "cell_type": "markdown",
   "metadata": {},
   "source": [
    "end=\"\" برای مدیریت خط ها در خروجی میتوانیم از تابع<br>\n",
    "استفاده کنیم برای مثال : "
   ]
  },
  {
   "cell_type": "code",
   "execution_count": null,
   "metadata": {},
   "outputs": [],
   "source": [
    "print(10, 14, \"poria\", end=\" \")\n",
    "print(\"ali\", \"reza\")\n",
    "\n",
    "# 10 14 poria ali reza : خروجی\n",
    "\n",
    "print(\"ali\", \"poria\", end=\"\\t\")\n",
    "print(\"mmd\", \"reza\")\n",
    "\n",
    "# ali poria \tmmd reza : خروجی\n",
    "\n",
    "print(\"ali\", end=\"\\n\")\n",
    "print(\"mmd\")\n",
    "\n",
    "# ali\n",
    "# mmd    : خروجی\n"
   ]
  },
  {
   "attachments": {},
   "cell_type": "markdown",
   "metadata": {},
   "source": [
    "sep=\"\" چند نمونه مثال از کاربرد تابع "
   ]
  },
  {
   "cell_type": "code",
   "execution_count": null,
   "metadata": {},
   "outputs": [],
   "source": [
    "print(5, 6, 9, 2, sep=\"+\")\n",
    "# 5+6+9+2 : خروجی\n",
    "\n",
    "x = 1\n",
    "y = 10\n",
    "print(x, y, sep=\"+\")\n",
    "# 1+10 : خروجی"
   ]
  },
  {
   "attachments": {},
   "cell_type": "markdown",
   "metadata": {},
   "source": [
    "عوامل پر کاربرد در مدیریت خط ها و فواصل بین عناصر<br>\n",
    "\\t-\\n-\\\\"
   ]
  },
  {
   "cell_type": "code",
   "execution_count": null,
   "metadata": {},
   "outputs": [],
   "source": [
    "# \\t موارد را یک تب فاصله می اندازد\n",
    "print(\"poria\\tali\")\n",
    "# poria    ali : خروجی\n",
    "\n",
    "\n",
    "# \\n موارد را یک خط جدا میکند\n",
    "print(\"poria\\nali\")\n",
    "# poria\n",
    "# ali  : خروجی\n",
    "\n",
    "# / موارد را نشان میدهد\n",
    "print(\"\\''\")\n",
    "# ''  : خروجی"
   ]
  }
 ],
 "metadata": {
  "kernelspec": {
   "display_name": "Python 3",
   "language": "python",
   "name": "python3"
  },
  "language_info": {
   "codemirror_mode": {
    "name": "ipython",
    "version": 3
   },
   "file_extension": ".py",
   "mimetype": "text/x-python",
   "name": "python",
   "nbconvert_exporter": "python",
   "pygments_lexer": "ipython3",
   "version": "3.10.10"
  },
  "orig_nbformat": 4
 },
 "nbformat": 4,
 "nbformat_minor": 2
}
