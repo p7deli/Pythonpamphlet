{
 "cells": [
  {
   "cell_type": "markdown",
   "metadata": {},
   "source": [
    "### مجموعه ها یا ست ها"
   ]
  },
  {
   "cell_type": "markdown",
   "metadata": {},
   "source": [
    "#### در پایتون، نوع داده ست یک مجموعه‌ی مرتب از داده‌ها است داده‌ها در ست به صورت بدون ترتیب ذخیره می‌شوند و قابل تغییر هستند. همچنین، ست تکرار را نپذیرفته و تنها یک نمونه از هر عضو را در خود نگه می‌دارد."
   ]
  },
  {
   "cell_type": "markdown",
   "metadata": {},
   "source": [
    "### تعریف متغییر در مجموعه ها"
   ]
  },
  {
   "cell_type": "code",
   "execution_count": null,
   "metadata": {},
   "outputs": [],
   "source": [
    "Set = {4, 5, 2, 5, 8}\n",
    "# output: {8, 2, 4, 5}"
   ]
  },
  {
   "cell_type": "markdown",
   "metadata": {},
   "source": [
    "#### در مجموعه ها ترتیب مهم نیست و دسرسی به ایندکس ها هم نداریم"
   ]
  },
  {
   "cell_type": "markdown",
   "metadata": {},
   "source": [
    "### در مجموعه ها هرنوع داده ای میتوانید ذخیره کنی به شرطی که اون نوع داده غیر قابل تغییر باشد"
   ]
  },
  {
   "cell_type": "code",
   "execution_count": null,
   "metadata": {},
   "outputs": [],
   "source": [
    "# متد هایی که بیشترین استفاده را دارند\n",
    "\n",
    "Set = {1, 2, 5}\n",
    "Set.add(14) # برای داده غیر قابل تغییر\n",
    "# output: {1, 2, 5, 14}\n",
    "\n",
    "Set = {1, 2, 5}\n",
    "Set.update([48, 5, 6, 9]) # برای اضافه کردن هر نوع داده\n",
    "# output: {1, 2, 5, 6, 9, 48}\n",
    "\n",
    "Set = {1, 2, 5}  \n",
    "Set.remove(2) # وجود نداشته باشه اررور میده\n",
    "# output: {1, 5}\n",
    "\n",
    "Set = {1, 2, 5}\n",
    "Set.discard(14) # وجود نداشته باشه هم اررور نمیده\n",
    "# output: {1, 2, 5}"
   ]
  },
  {
   "cell_type": "markdown",
   "metadata": {},
   "source": [
    "#### قابلیت های مهم مجموعه ها که خیلی بدرد میخورن"
   ]
  },
  {
   "cell_type": "code",
   "execution_count": null,
   "metadata": {},
   "outputs": [],
   "source": [
    "# مواردی که در اولی وجود دارد ولی در دومی نیست\n",
    "p = {3, 9, 15, 12, 6, 18}\n",
    "q = {12, 6, 18, 10, 4, 16, 2, 8, 14}\n",
    "\n",
    "print(p - q)\n",
    "print(p.difference(q))\n",
    "# output: {9, 3, 15}\n",
    "\n",
    "\n",
    "# و برعکس\n",
    "print(q - p)\n",
    "print(q.difference(p))\n",
    "# output: {2, 4, 8, 10, 14, 16}\n",
    "\n",
    "\n",
    "# اجتماع\n",
    "print(p | q)\n",
    "print(p.union(q))\n",
    "# output: {2, 3, 4, 6, 8, 9, 10, 12, 14, 15, 16, 18}\n",
    "\n",
    "\n",
    "# اشتراک\n",
    "print(p & q)\n",
    "print(p.intersection(q))\n",
    "# output: {18, 12, 6}\n",
    "\n",
    "\n",
    "# تفاضل متقارن\n",
    "# همه مواردی که در جفتشون هست را پاک و بقیه را نشان میدهد\n",
    "print(p ^ q)\n",
    "print((p | q) - (p & q))\n",
    "print((q - p) | (p - q))\n",
    "print(p.symmetric_difference(q))\n",
    "# output: {2, 3, 4, 8, 9, 10, 14, 15, 16}\n",
    "\n",
    "\n",
    "# زیر مجموعه بودن\n",
    "a = {40, 50, 20, 10, 30, 60}\n",
    "b = {10, 30, 60}\n",
    "print(a < b)\n",
    "print(b.issuperset(a))\n",
    "# output: False\n",
    "print(b < a)\n",
    "print(a.issuperset(b))\n",
    "# output: True\n",
    "print(a > b)\n",
    "print(b.issubset(a))\n",
    "# output: True\n",
    "print(b > a)\n",
    "print(a.issubset(b))\n",
    "# output: False"
   ]
  }
 ],
 "metadata": {
  "kernelspec": {
   "display_name": "Python 3",
   "language": "python",
   "name": "python3"
  },
  "language_info": {
   "codemirror_mode": {
    "name": "ipython",
    "version": 3
   },
   "file_extension": ".py",
   "mimetype": "text/x-python",
   "name": "python",
   "nbconvert_exporter": "python",
   "pygments_lexer": "ipython3",
   "version": "3.10.10"
  },
  "orig_nbformat": 4
 },
 "nbformat": 4,
 "nbformat_minor": 2
}
