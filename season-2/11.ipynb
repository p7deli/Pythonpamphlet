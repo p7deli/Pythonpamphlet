{
 "cells": [
  {
   "cell_type": "markdown",
   "metadata": {},
   "source": [
    "### sum min max"
   ]
  },
  {
   "cell_type": "markdown",
   "metadata": {},
   "source": [
    "# sum"
   ]
  },
  {
   "cell_type": "code",
   "execution_count": null,
   "metadata": {},
   "outputs": [],
   "source": [
    "List = [45, 6, 9, 3]\n",
    "Tup = (45, 6, 9, 3)\n",
    "Set = {45, 6, 9, 3}\n",
    "Dic = {\"a\": 12, \"b\": 25, \"c\": 19}\n",
    "\n",
    "print(sum(List))\n",
    "print(sum(Tup))\n",
    "print(sum(Set))\n",
    "print(sum(Dic.values()))\n",
    "\n",
    "# output: 63\n",
    "#         63\n",
    "#         63\n",
    "#         56"
   ]
  },
  {
   "cell_type": "markdown",
   "metadata": {},
   "source": [
    "# max"
   ]
  },
  {
   "cell_type": "code",
   "execution_count": null,
   "metadata": {},
   "outputs": [],
   "source": [
    "List = [45, 6, 9, 3]\n",
    "Tup = (45, 6, 9, 3)\n",
    "Set = {45, 6, 9, 3}\n",
    "Dic = {\"a\": 12, \"b\": 25, \"c\": 19}\n",
    "\n",
    "print(max(List))\n",
    "print(max(Tup))\n",
    "print(max(Set))\n",
    "print(max(Dic.values()))\n",
    "\n",
    "# output: 45\n",
    "#         45\n",
    "#         45\n",
    "#         25\n",
    "\n",
    "# -----------------------------------------------------\n",
    "\n",
    "List = []\n",
    "Tup = ()\n",
    "Set = {}\n",
    "Dic = {}\n",
    "\n",
    "print(max(List, default=2))\n",
    "print(max(Tup, default=2))\n",
    "print(max(Set, default=2))\n",
    "print(max(Dic.values(), default=2))\n",
    "\n",
    "# output: 2\n",
    "#         2\n",
    "#         2\n",
    "#         2"
   ]
  },
  {
   "cell_type": "markdown",
   "metadata": {},
   "source": [
    "# min"
   ]
  },
  {
   "cell_type": "code",
   "execution_count": null,
   "metadata": {},
   "outputs": [],
   "source": [
    "List = [45, 6, 9, 3]\n",
    "Tup = (45, 6, 9, 3)\n",
    "Set = {45, 6, 9, 3}\n",
    "Dic = {\"a\": 12, \"b\": 25, \"c\": 19}\n",
    "\n",
    "print(min(List))\n",
    "print(min(Tup))\n",
    "print(min(Set))\n",
    "print(min(Dic.values()))\n",
    "\n",
    "# output: 3\n",
    "#         3\n",
    "#         3\n",
    "#         12\n",
    "\n",
    "# -----------------------------------------------------\n",
    "\n",
    "List = []\n",
    "Tup = ()\n",
    "Set = {}\n",
    "Dic = {}\n",
    "\n",
    "print(min(List, default=1))\n",
    "print(min(Tup, default=1))\n",
    "print(min(Set, default=1))\n",
    "print(min(Dic.values(), default=1))\n",
    "\n",
    "# output: 1\n",
    "#         1\n",
    "#         1\n",
    "#         1"
   ]
  }
 ],
 "metadata": {
  "kernelspec": {
   "display_name": "Python 3",
   "language": "python",
   "name": "python3"
  },
  "language_info": {
   "codemirror_mode": {
    "name": "ipython",
    "version": 3
   },
   "file_extension": ".py",
   "mimetype": "text/x-python",
   "name": "python",
   "nbconvert_exporter": "python",
   "pygments_lexer": "ipython3",
   "version": "3.10.10"
  },
  "orig_nbformat": 4
 },
 "nbformat": 4,
 "nbformat_minor": 2
}
