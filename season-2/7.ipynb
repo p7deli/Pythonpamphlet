{
 "cells": [
  {
   "cell_type": "markdown",
   "metadata": {},
   "source": [
    "### نوع داده تاپل"
   ]
  },
  {
   "cell_type": "markdown",
   "metadata": {},
   "source": [
    "##### تاپل در پایتون یک نوع داده است که مجموعه‌ای از عناصر را نگهداری می‌کند. تفاوت اصلی تاپل با لیست در این است که تاپل غیرقابل تغییر (immutable) است، به این معنی که بعد از ساخته شدن، عناصر داخل آن قابل تغییر نیستند. همچنین، تاپل معمولاً با استفاده از پرانتز گرد () ساخته می‌شود و عناصر آن با کاما (,) جدا می‌شوند."
   ]
  },
  {
   "cell_type": "code",
   "execution_count": null,
   "metadata": {},
   "outputs": [],
   "source": [
    "tup1 = (5, 6, 3, 1)\n",
    "tup2 = tuple(\"poria\")\n",
    "\n",
    "# output: (5, 6, 3, 1)\n",
    "#         ('p', 'o', 'r', 'i', 'a')"
   ]
  },
  {
   "cell_type": "markdown",
   "metadata": {},
   "source": [
    "#### همانند لیست ها هر نوع داده ای را ذخیره میکند با این تفاوت که حافظه ی کمتری نیسبت به لیست مشغول میکند"
   ]
  },
  {
   "cell_type": "code",
   "execution_count": null,
   "metadata": {},
   "outputs": [],
   "source": [
    "# اگر در داخل تاپل یک متغییر لیست ذخیره باشد میتوانید با دسرسی به آن لیست با استفاده از ایندکس عناصر آن لیست را تغییر دهید\n",
    "tup = (45, 8, [21, 4, \"poria\"])\n",
    "tup[2][1] = \"ali\"\n",
    "print(tup)\n",
    "\n",
    "# output: (45, 8, [21, 'ali', 'poria'])"
   ]
  },
  {
   "cell_type": "code",
   "execution_count": null,
   "metadata": {},
   "outputs": [],
   "source": [
    "# برای تغییر دادن عناصر یک تاپل میتوانید به روش زیر عمل کنید\n",
    "tup = (45, 8, 6, 2)\n",
    "tup = list(tup)\n",
    "tup[2] = \"poria\"\n",
    "tup = tuple(tup)\n",
    "print(tup)\n",
    "# output: (45, 8, 'poria', 2)"
   ]
  }
 ],
 "metadata": {
  "kernelspec": {
   "display_name": "Python 3",
   "language": "python",
   "name": "python3"
  },
  "language_info": {
   "codemirror_mode": {
    "name": "ipython",
    "version": 3
   },
   "file_extension": ".py",
   "mimetype": "text/x-python",
   "name": "python",
   "nbconvert_exporter": "python",
   "pygments_lexer": "ipython3",
   "version": "3.10.10"
  },
  "orig_nbformat": 4
 },
 "nbformat": 4,
 "nbformat_minor": 2
}
