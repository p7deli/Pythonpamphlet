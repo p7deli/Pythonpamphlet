{
 "cells": [
  {
   "cell_type": "markdown",
   "metadata": {},
   "source": [
    "### حل مثال هایی برای رشته ها"
   ]
  },
  {
   "cell_type": "code",
   "execution_count": null,
   "metadata": {},
   "outputs": [],
   "source": [
    "# برنامه ای بنویسید یک متن داریم و از کاربر یک کاراکتر بپرسد و تعداد آن را در جمله نشان دهد\n",
    "\n",
    "Sentence = \"Hi, how are you, poria is a bad boy\"\n",
    "word = input(\"please enter a chr: \")\n",
    "print(f\"chr: {word} ---- count: {Sentence.count(word)}\")\n",
    "\n",
    "# input: please enter a chr: a\n",
    "# output: chr: a ---- count: 4"
   ]
  },
  {
   "cell_type": "code",
   "execution_count": null,
   "metadata": {},
   "outputs": [],
   "source": [
    "# برنامه ای بنویسید که یک جمله از کاربر بپرسد و اخرین کلمه آن جمله را بنویسید\n",
    "\n",
    "Sentence = input(\"Enter Sentence: \")\n",
    "Sentence = Sentence.strip()\n",
    "Space_right = Sentence.rfind(\" \")\n",
    "print(Sentence[Space_right+1:])\n",
    "# input:   Hi, how are you, poria is a bad boy   \n",
    "# output:boy"
   ]
  },
  {
   "cell_type": "code",
   "execution_count": null,
   "metadata": {},
   "outputs": [],
   "source": [
    "# برنامه ای بنویسید که دو رشته از کاربر بگیرد و مشخص کنید که جمله دومی در اولی هست یا خیر\n",
    "\n",
    "s1 = input(\"Enter s1: \")\n",
    "s2 = input(\"Enter s2: \")\n",
    "print(s2 in s1)\n",
    "# input:Enter s1: hello i'm poria\n",
    "# input:Enter s2: i'm poria\n",
    "# output: True"
   ]
  },
  {
   "cell_type": "code",
   "execution_count": null,
   "metadata": {},
   "outputs": [],
   "source": [
    "# برنامه ای بنویسید که یک جمله از کاربر بگیرید و تمام فاصله هارا پاک کنید\n",
    "# space, tab, ...\n",
    "\n",
    "s = input(\"Sentence: \")\n",
    "print(s.replace(\" \", \"\").replace(\"\\t\", \"\"))\n",
    "\n",
    "# input: im poria   01\n",
    "# output:imporia01"
   ]
  },
  {
   "cell_type": "code",
   "execution_count": null,
   "metadata": {},
   "outputs": [],
   "source": [
    "# برنامه ای بنویسید که 0 اول هر شماره تلفن را پاک کند\n",
    "number = input(\"Enter number: \")\n",
    "print(number.lstrip(\"0\"))\n",
    "\n",
    "# input: 09337787897\n",
    "# output:9337787897"
   ]
  }
 ],
 "metadata": {
  "kernelspec": {
   "display_name": "Python 3",
   "language": "python",
   "name": "python3"
  },
  "language_info": {
   "codemirror_mode": {
    "name": "ipython",
    "version": 3
   },
   "file_extension": ".py",
   "mimetype": "text/x-python",
   "name": "python",
   "nbconvert_exporter": "python",
   "pygments_lexer": "ipython3",
   "version": "3.10.10"
  },
  "orig_nbformat": 4
 },
 "nbformat": 4,
 "nbformat_minor": 2
}
