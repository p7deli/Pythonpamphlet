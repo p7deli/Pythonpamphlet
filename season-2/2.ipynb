{
 "cells": [
  {
   "attachments": {},
   "cell_type": "markdown",
   "metadata": {},
   "source": [
    "### تمرین های مبحث اعداد"
   ]
  },
  {
   "cell_type": "code",
   "execution_count": null,
   "metadata": {},
   "outputs": [],
   "source": [
    "# وزن را بر اساس کیلوگرم دریافت کنید و بر اساس گرم نمایش دهید\n",
    "kg = float(input(\"please enter Kg: \"))\n",
    "g = kg * 1000\n",
    "print(\"g: \", g, \"g\", sep=\"\")\n",
    "# input: please enter Kg: 10\n",
    "# output: g: 10000.0g"
   ]
  },
  {
   "cell_type": "code",
   "execution_count": null,
   "metadata": {},
   "outputs": [],
   "source": [
    "# مساحت مثلث را حساب کنید\n",
    "# masahat: 0.5 * قاعده * ارتفاع\n",
    "\n",
    "ghaede = int(input(\"please enter ghaede: \"))\n",
    "ertefa = int(input(\"please enter ertefa: \"))\n",
    "mas = ghaede * ertefa * 0.5\n",
    "print(\"Masahat mosalas:\", mas)\n",
    "\n",
    "# input: please enter ghaede: 4\n",
    "# input: please enter ertefa: 5\n",
    "# output: Masahat mosalas: 10.0"
   ]
  },
  {
   "cell_type": "code",
   "execution_count": null,
   "metadata": {},
   "outputs": [],
   "source": [
    "# یک ماشین حساب ساده را طراحی کنید\n",
    "\n",
    "number1 = int(input(\"please enter number: \"))\n",
    "number2 = int(input(\"please enter number: \"))\n",
    "print(number1, \"*\", number2, \"=\", number1 * number2)\n",
    "print(number1, \"/\", number2, \"=\", number1 / number2)\n",
    "print(number1, \"-\", number2, \"=\", number1 - number2)\n",
    "print(number1, \"+\", number2, \"=\", number1 + number2)\n",
    "\n",
    "# input: please enter number: 4\n",
    "# input: please enter number: 5\n",
    "# output: 4 * 5 = 20\n",
    "# output: 4 / 5 = 0.8\n",
    "# output: 4 - 5 = -1\n",
    "# output: 4 + 5 = 9"
   ]
  },
  {
   "cell_type": "code",
   "execution_count": null,
   "metadata": {},
   "outputs": [],
   "source": [
    "# یک عدد سه رقمی وارد کنید و برعکس آن را چاپ کنید\n",
    "\n",
    "x = int(input(\"please enter number: \"))\n",
    "print(x % 10)\n",
    "x = x // 10\n",
    "\n",
    "print(x % 10)\n",
    "x = x // 10\n",
    "\n",
    "print(x % 10)\n",
    "\n",
    "# input: please enter number: 254\n",
    "# output: 4\n",
    "#         5\n",
    "#         2"
   ]
  },
  {
   "cell_type": "code",
   "execution_count": null,
   "metadata": {},
   "outputs": [],
   "source": [
    "# یک زاویه براساس درجه وارد کنید و آن را تبدیل به رادیان کنید\n",
    "# R = D * (3.14 / 180)\n",
    "\n",
    "d = int(input(\"please enter d: \"))\n",
    "R = d * (3.14 / 180)\n",
    "print(\"R:\", R)\n",
    "\n",
    "# input: please enter d: 45\n",
    "# output: R: 0.7850000000000001"
   ]
  }
 ],
 "metadata": {
  "kernelspec": {
   "display_name": "Python 3",
   "language": "python",
   "name": "python3"
  },
  "language_info": {
   "codemirror_mode": {
    "name": "ipython",
    "version": 3
   },
   "file_extension": ".py",
   "mimetype": "text/x-python",
   "name": "python",
   "nbconvert_exporter": "python",
   "pygments_lexer": "ipython3",
   "version": "3.10.10"
  },
  "orig_nbformat": 4
 },
 "nbformat": 4,
 "nbformat_minor": 2
}
