{
 "cells": [
  {
   "attachments": {},
   "cell_type": "markdown",
   "metadata": {},
   "source": [
    "### تمرین های مبحث اعداد"
   ]
  },
  {
   "cell_type": "code",
   "execution_count": null,
   "metadata": {},
   "outputs": [],
   "source": [
    "# وزن را بر اساس کیلوگرم دریافت کنید و بر اساس گرم نمایش دهید\n",
    "kg = float(input(\"please enter Kg: \"))\n",
    "g = kg * 1000\n",
    "print(\"g: \", g, \"g\", sep=\"\")\n",
    "# input: please enter Kg: 10\n",
    "# output: g: 10000.0g"
   ]
  },
  {
   "cell_type": "code",
   "execution_count": null,
   "metadata": {},
   "outputs": [],
   "source": [
    "# مساحت مثلث را حساب کنید\n",
    "# masahat: 0.5 * قاعده * ارتفاع\n",
    "\n",
    "ghaede = int(input(\"please enter ghaede: \"))\n",
    "ertefa = int(input(\"please enter ertefa: \"))\n",
    "mas = ghaede * ertefa * 0.5\n",
    "print(\"Masahat mosalas:\", mas)\n",
    "\n",
    "# input: please enter ghaede: 4\n",
    "# input: please enter ertefa: 5\n",
    "# output: Masahat mosalas: 10.0"
   ]
  },
  {
   "cell_type": "code",
   "execution_count": null,
   "metadata": {},
   "outputs": [],
   "source": [
    "# یک ماشین حساب ساده را طراحی کنید\n",
    "\n",
    "number1 = int(input(\"please enter number: \"))\n",
    "number2 = int(input(\"please enter number: \"))\n",
    "print(number1, \"*\", number2, \"=\", number1 * number2)\n",
    "print(number1, \"/\", number2, \"=\", number1 / number2)\n",
    "print(number1, \"-\", number2, \"=\", number1 - number2)\n",
    "print(number1, \"+\", number2, \"=\", number1 + number2)\n",
    "\n",
    "# input: please enter number: 4\n",
    "# input: please enter number: 5\n",
    "# output: 4 * 5 = 20\n",
    "# output: 4 / 5 = 0.8\n",
    "# output: 4 - 5 = -1\n",
    "# output: 4 + 5 = 9"
   ]
  },
  {
   "cell_type": "code",
   "execution_count": null,
   "metadata": {},
   "outputs": [],
   "source": [
    "# یک عدد سه رقمی وارد کنید و برعکس آن را چاپ کنید\n",
    "\n",
    "x = int(input(\"please enter number: \"))\n",
    "print(x % 10)\n",
    "x = x // 10\n",
    "\n",
    "print(x % 10)\n",
    "x = x // 10\n",
    "\n",
    "print(x % 10)\n",
    "\n",
    "# input: please enter number: 254\n",
    "# output: 4\n",
    "#         5\n",
    "#         2"
   ]
  },
  {
   "cell_type": "code",
   "execution_count": null,
   "metadata": {},
   "outputs": [],
   "source": [
    "# یک زاویه براساس درجه وارد کنید و آن را تبدیل به رادیان کنید\n",
    "# R = D * (3.14 / 180)\n",
    "\n",
    "d = int(input(\"please enter d: \"))\n",
    "R = d * (3.14 / 180)\n",
    "print(\"R:\", R)\n",
    "\n",
    "# input: please enter d: 45\n",
    "# output: R: 0.7850000000000001"
   ]
  },
  {
   "cell_type": "code",
   "execution_count": null,
   "metadata": {},
   "outputs": [],
   "source": [
    "# برنامه ای بنویسید که شعاع دایره را از کاربر گرفته و محیط و مساحت دایره را حساب کند\n",
    "\n",
    "# Mohit = 2pr\n",
    "# masahat = pr^2\n",
    "\n",
    "p = 3.14\n",
    "r = float(input(\"r: \"))\n",
    "print(\"Mohit:\", 2 * p * r)\n",
    "print(\"Masahat:\", p * (r ** 2))\n",
    "\n",
    "# input: r: 5\n",
    "# output: Mohit: 31.400000000000002\n",
    "#         Masahat: 78.5"
   ]
  },
  {
   "cell_type": "code",
   "execution_count": null,
   "metadata": {},
   "outputs": [],
   "source": [
    "# برنامه ای بنویسید که یک عدد از کاربر گرفته و مربع(توان دوم) و مکعب(توان سوم) آن را چاپ کند\n",
    "\n",
    "number = int(input(\"please enter number: \"))\n",
    "print(\"number ^ 2:\", number ** 2)\n",
    "print(\"number ^ 3:\", number ** 3)\n",
    "\n",
    "# input: please enter number: 8\n",
    "# output: number ^ 2: 64\n",
    "#         number ^ 3: 512"
   ]
  },
  {
   "cell_type": "code",
   "execution_count": null,
   "metadata": {},
   "outputs": [],
   "source": [
    "# برنامه ای بنویسید که دو عدد از کاربر گرفته، اولی را به توان دومی برساند و نتیجه را چاپ کند\n",
    "\n",
    "number1 = int(input(\"please enter number1: \"))\n",
    "number2 = int(input(\"please enter number2: \"))\n",
    "\n",
    "print(\"number1 ^ number2:\", number1 ** number2)\n",
    "\n",
    "# input: please enter number1: 5\n",
    "# input: please enter number2: 2\n",
    "# output: number1 ^ number2: 25"
   ]
  },
  {
   "cell_type": "code",
   "execution_count": null,
   "metadata": {},
   "outputs": [],
   "source": [
    "# برنامه ای بنویسید که سه عدد گرفته و میانگین آن ها را محاسبه و چاپ کند\n",
    "\n",
    "x = int(input(\"x: \"))\n",
    "y = int(input(\"y: \"))\n",
    "z = int(input(\"z: \"))\n",
    "\n",
    "Sum = x+y+z\n",
    "\n",
    "print(\"Average:\", Sum/3)\n",
    "\n",
    "# input: x: 5\n",
    "# input: y: 2\n",
    "# input: z: 6\n",
    "# output: Average:  4.333333333333333"
   ]
  }
 ],
 "metadata": {
  "kernelspec": {
   "display_name": "Python 3",
   "language": "python",
   "name": "python3"
  },
  "language_info": {
   "codemirror_mode": {
    "name": "ipython",
    "version": 3
   },
   "file_extension": ".py",
   "mimetype": "text/x-python",
   "name": "python",
   "nbconvert_exporter": "python",
   "pygments_lexer": "ipython3",
   "version": "3.10.10"
  },
  "orig_nbformat": 4
 },
 "nbformat": 4,
 "nbformat_minor": 2
}
