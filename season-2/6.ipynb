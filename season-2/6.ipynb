{
 "cells": [
  {
   "cell_type": "markdown",
   "metadata": {},
   "source": [
    "### لیست ها"
   ]
  },
  {
   "cell_type": "markdown",
   "metadata": {},
   "source": [
    "##### لیست در پایتون یک نوع متغیر است که مجموعه‌ای از عناصر را در خود ذخیره می‌کند و این عناصر می‌توانند هر نوع داده‌ای باشند."
   ]
  },
  {
   "cell_type": "code",
   "execution_count": null,
   "metadata": {},
   "outputs": [],
   "source": [
    "# هر نوع متغییر را میتوانید در لسیت ها ذخیره کنید\n",
    "List = [[\"ali\", 54], 54, 5.25, \"ali\", True] # ..."
   ]
  },
  {
   "cell_type": "code",
   "execution_count": null,
   "metadata": {},
   "outputs": [],
   "source": [
    "# همانند رشته ها به وسیله ایندکس ها روی عناصر حرکت کنید\n",
    "List = [\"poria\", \"ali\", 54]\n",
    "print(List[0])\n",
    "# output: poria\n",
    "\n",
    "print(List[-1])\n",
    "# output: 54"
   ]
  },
  {
   "cell_type": "code",
   "execution_count": null,
   "metadata": {},
   "outputs": [],
   "source": [
    "# برای ایجاد لیست از موارد زیر میتوانید استفاده کنید\n",
    "name = \"poria\"\n",
    "name = list(name)\n",
    "print(name)\n",
    "# output: ['p', 'o', 'r', 'i', 'a']\n",
    "\n",
    "List = [\"ali\", 12]\n",
    "print(List)\n",
    "# output: [\"ali\", 12]\n",
    "\n",
    "names = \"poria ali\"\n",
    "List = names.split(\" \")\n",
    "print(List)\n",
    "# output: ['poria', 'ali']"
   ]
  },
  {
   "cell_type": "code",
   "execution_count": null,
   "metadata": {},
   "outputs": [],
   "source": [
    "# تغییر یک عنصر با مقداری دیگر\n",
    "List = [\"poria\", 14, 15]\n",
    "List[1] = 18\n",
    "print(List)\n",
    "# output:['poria', 18, 15]"
   ]
  },
  {
   "cell_type": "code",
   "execution_count": null,
   "metadata": {},
   "outputs": [],
   "source": [
    "# برعکس کردن عناصر داخل لیست\n",
    "List = [1, 2, 3, 4, 5]\n",
    "print(List[::-1])\n",
    "# output:[5, 4, 3, 2, 1]"
   ]
  },
  {
   "cell_type": "code",
   "execution_count": null,
   "metadata": {},
   "outputs": [],
   "source": [
    "# شما میتوانید لیست هارا ضرب و جمع کنید با این تفاوت\n",
    "List1 = [1, 2, 3, 4]\n",
    "print(List1*2)\n",
    "# output: [1, 2, 3, 4, 1, 2, 3, 4]\n",
    "\n",
    "List2 = [\"poria\", \"mmd\"]\n",
    "print(List1+List2)\n",
    "# output: [1, 2, 3, 4, 'poria', 'mmd']"
   ]
  },
  {
   "cell_type": "code",
   "execution_count": null,
   "metadata": {},
   "outputs": [],
   "source": [
    "# کپی کردن از یک متغییر لیست\n",
    "List = [4, 5, 9, 6]\n",
    "List1 = List.copy()\n",
    "List1[0] = 15\n",
    "\n",
    "print(List)\n",
    "print(List1)\n",
    "# output:[4, 5, 9, 6]\n",
    "#        [15, 5, 9, 6]"
   ]
  },
  {
   "cell_type": "code",
   "execution_count": null,
   "metadata": {},
   "outputs": [],
   "source": [
    "# حرکت روی لیست های تو در تو\n",
    "List = [\"ali\", [\"mmd\", 1, 5, 6], 7, 8, 9]\n",
    "print(List[0])\n",
    "# output:ali\n",
    "print(List[1][2])\n",
    "# output:5"
   ]
  },
  {
   "cell_type": "code",
   "execution_count": null,
   "metadata": {},
   "outputs": [],
   "source": [
    "# کپی سطحی\n",
    "# کپی کردن از یک لیست متغییر\n",
    "import copy\n",
    "\n",
    "List = [\"poria\", [5, 2, 6, \"ali\"], 254, \"mmd\"]\n",
    "List1 = copy.copy(List)\n",
    "\n",
    "List[0] = \"deli\"\n",
    "print(List)\n",
    "print(List1)\n",
    "\n",
    "# output: ['deli', [5, 2, 6, 'ali'], 254, 'mmd']\n",
    "#         ['poria', [5, 2, 6, 'ali'], 254, 'mmd']\n",
    "\n",
    "List = [\"poria\", [5, 2, 6, \"ali\"], 254, \"mmd\"]\n",
    "List1 = copy.copy(List)\n",
    "\n",
    "List[1][2] = \"reza\"\n",
    "print(List)\n",
    "print(List1)\n",
    "\n",
    "# output: ['poria', [5, 2, 'reza', 'ali'], 254, 'mmd']\n",
    "#         ['poria', [5, 2, 'reza', 'ali'], 254, 'mmd']\n",
    "# ------------------------------------------------------------\n",
    "# کپی عمیق\n",
    "\n",
    "List = [\"poria\", [5, 2, 6, \"ali\"], 254, \"mmd\"]\n",
    "List1 = copy.deepcopy(List)\n",
    "\n",
    "List[1][2] = \"reza\"\n",
    "print(List)\n",
    "print(List1)\n",
    "\n",
    "# output: ['poria', [5, 2, 'reza', 'ali'], 254, 'mmd']\n",
    "#         ['poria', [5, 2, 6, 'ali'], 254, 'mmd']"
   ]
  },
  {
   "cell_type": "code",
   "execution_count": null,
   "metadata": {},
   "outputs": [],
   "source": [
    "# پر استفاده ترین متد ها در لیست ها\n",
    "List = [5, 6, 8, 9, 2]\n",
    "List.append(8)\n",
    "# output: [5, 6, 8, 9, 2, 8]\n",
    "\n",
    "List.append([8, 4])\n",
    "# output: [5, 6, 8, 9, 2, [8, 4]]\n",
    "\n",
    "# List.clear()\n",
    "# output: []\n",
    "\n",
    "s = List.index(5)\n",
    "# output: 0\n",
    "# موجود نباشه ارور میده\n",
    "\n",
    "s = List.count(5)\n",
    "# output: 1\n",
    "\n",
    "List = [5, 5, 6, 8, 9, 2, 8]\n",
    "List.insert(0, 15)\n",
    "# output: [15, 5, 6, 8, 9, 2, 8]\n",
    "\n",
    "fruits = ['apple', 'banana', 'cherry']\n",
    "removed_fruit = fruits.pop(1)\n",
    "print(fruits)\n",
    "print(removed_fruit)\n",
    "\n",
    "# output: ['apple', 'cherry']\n",
    "#         banana\n",
    "\n",
    "fruits = ['apple', 'banana', 'cherry']\n",
    "more_fruits = ['orange', 'grape']\n",
    "fruits.extend(more_fruits)\n",
    "print(fruits)\n",
    "# Output: ['apple', 'banana', 'cherry', 'orange', 'grape']\n",
    "\n",
    "\n",
    "List = [5, 6, 7, 8, 5, 4]\n",
    "List1 = sorted(List)\n",
    "print(List1)\n",
    "# output: [4, 5, 5, 6, 7, 8]\n",
    "\n",
    "List = [5, 6, 7, 8, 5, 4]\n",
    "List.sort()\n",
    "print(List)\n",
    "# output: [4, 5, 5, 6, 7, 8]"
   ]
  }
 ],
 "metadata": {
  "kernelspec": {
   "display_name": "Python 3",
   "language": "python",
   "name": "python3"
  },
  "language_info": {
   "codemirror_mode": {
    "name": "ipython",
    "version": 3
   },
   "file_extension": ".py",
   "mimetype": "text/x-python",
   "name": "python",
   "nbconvert_exporter": "python",
   "pygments_lexer": "ipython3",
   "version": "3.10.10"
  },
  "orig_nbformat": 4
 },
 "nbformat": 4,
 "nbformat_minor": 2
}
