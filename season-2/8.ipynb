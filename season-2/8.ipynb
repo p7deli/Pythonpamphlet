{
 "cells": [
  {
   "cell_type": "markdown",
   "metadata": {},
   "source": [
    "#### نوع داده دیکشنری"
   ]
  },
  {
   "cell_type": "markdown",
   "metadata": {},
   "source": [
    "##### دیکشنری در پایتون یک نوع داده است که شامل مجموعه‌ای از جفت‌های کلید-مقدار است. هر کلید یکتا است و به آن مقدار متناظری اختصاص داده می‌شود. دیکشنری‌ها در پایتون با علامت آکولاد ({}) تعریف می‌شوند و جفت‌های کلید-مقدار با استفاده از علامت دو نقطه (:) جدا می‌شوند."
   ]
  },
  {
   "cell_type": "markdown",
   "metadata": {},
   "source": [
    "### تعریف متغییر دیکشنری"
   ]
  },
  {
   "cell_type": "code",
   "execution_count": null,
   "metadata": {},
   "outputs": [],
   "source": [
    "d = {\"a\": 25, \"s\": 14, 5: 19}\n",
    "# output: {\"a\": 25, \"s\": 14, 5: 19}\n",
    "# ------------------------------------------\n",
    "name = \"poria\"\n",
    "numbers = [4, 5, 6, 9]\n",
    "d[name] = numbers\n",
    "# output: {\"poria\": [4, 5, 6, 9]}\n",
    "# ------------------------------------------\n",
    "d = dict([(\"a\", 14), (\"b\", 45), (1, 16)])\n",
    "# output: {'a': 14, 'b': 45, 1: 16}\n",
    "# ------------------------------------------\n",
    "d = dict(a=14, b=250)\n",
    "# output: {'a': 14, 'b': 250}\n",
    "# ------------------------------------------\n",
    "l1 = [1, 2, 3]\n",
    "l2 = [\"pora\", \"ali\", \"mmd\"]\n",
    "d = dict(zip(l1, l2))\n",
    "# output: {1: 'pora', 2: 'ali', 3: 'mmd'}\n",
    "# ------------------------------------------\n",
    "d = {\n",
    "    \"a1\": {\"poria\": 14, \"ali\": 15},\n",
    "    \"a2\": {\"mmd\": 19, \"reza\": 17}\n",
    "}\n",
    "# output: {'a1': {'poria': 14, 'ali': 15}, 'a2': {'mmd': 19, 'reza': 17}}"
   ]
  },
  {
   "cell_type": "markdown",
   "metadata": {},
   "source": [
    "#### در دیکشنری ها مقادیر قابل تغییر هستند ولی کلید ها خیر"
   ]
  },
  {
   "cell_type": "code",
   "execution_count": null,
   "metadata": {},
   "outputs": [],
   "source": [
    "d = {\"a\": 25, 14: 36, \"b\": \"poria\"}\n",
    "d[\"a\"] = 100\n",
    "print(d)\n",
    "\n",
    "# output: {'a': 100, 14: 36, 'b': 'poria'}"
   ]
  },
  {
   "cell_type": "markdown",
   "metadata": {},
   "source": [
    "### پر کاربرد ترین متد های دیکشنری ها"
   ]
  },
  {
   "cell_type": "code",
   "execution_count": null,
   "metadata": {},
   "outputs": [],
   "source": [
    "d = {\"a\": 25, \"b\": 14}\n",
    "print(d.keys())\n",
    "# output: dict_keys(['a', 'b'])\n",
    "\n",
    "print(d.values())\n",
    "# output: dict_values([25, 14])\n",
    "\n",
    "print(d.items())\n",
    "# output: dict_items([('a', 25), ('b', 14)])"
   ]
  }
 ],
 "metadata": {
  "kernelspec": {
   "display_name": "Python 3",
   "language": "python",
   "name": "python3"
  },
  "language_info": {
   "codemirror_mode": {
    "name": "ipython",
    "version": 3
   },
   "file_extension": ".py",
   "mimetype": "text/x-python",
   "name": "python",
   "nbconvert_exporter": "python",
   "pygments_lexer": "ipython3",
   "version": "3.10.10"
  },
  "orig_nbformat": 4
 },
 "nbformat": 4,
 "nbformat_minor": 2
}
