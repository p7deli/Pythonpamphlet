{
 "cells": [
  {
   "cell_type": "markdown",
   "metadata": {},
   "source": [
    "### دستورات کنترلی"
   ]
  },
  {
   "cell_type": "code",
   "execution_count": null,
   "metadata": {},
   "outputs": [],
   "source": [
    "x = 25\n",
    "y = 16\n",
    "z = 17\n",
    "print(f\"{40*'-'}\\nx: {x}\\ny: {y}\\nz: {z}\")\n",
    "# output:----------------------------------------\n",
    "#        x: 25\n",
    "#        y: 16\n",
    "#        z: 17\n",
    "\n",
    "\n",
    "\n",
    "\n",
    "x, y, z = 25, 16, 17\n",
    "print(f\"{40*'-'}\\nx: {x}\\ny: {y}\\nz: {z}\")\n",
    "# output:----------------------------------------\n",
    "#        x: 25\n",
    "#        y: 16\n",
    "#        z: 17\n",
    "\n",
    "\n",
    "\n",
    "\n",
    "\n",
    "x, y, z = input(\"inter x,y,z: \").split(\" \")\n",
    "print(f\"{40*'-'}\\nx: {x}\\ny: {y}\\nz: {z}\")\n",
    "# input: 25 16 17\n",
    "# output:----------------------------------------\n",
    "#        x: 25\n",
    "#        y: 16\n",
    "#        z: 17"
   ]
  },
  {
   "cell_type": "markdown",
   "metadata": {},
   "source": [
    "### شرط ها"
   ]
  },
  {
   "cell_type": "markdown",
   "metadata": {},
   "source": [
    "### شرط ها در پایتون به صورت زیر ایجاد میشوند"
   ]
  },
  {
   "cell_type": "code",
   "execution_count": null,
   "metadata": {},
   "outputs": [],
   "source": [
    "# ---------------- if -----------------\n",
    "name = \"poria\"\n",
    "if name == \"poria\":\n",
    "    print(\"OK\")\n",
    "# output: OK\n",
    "# --------------- else ----------------\n",
    "name = \"poria\"\n",
    "if name == \"ali\":\n",
    "    print(\"OK\")\n",
    "else:\n",
    "    print(\"NO\")\n",
    "# output: NO\n",
    "# --------------- elif ----------------\n",
    "name = \"poria\"\n",
    "if name == \"ali\":\n",
    "    print(\"ali\")\n",
    "elif name == \"poria\":\n",
    "    print(\"poria\")\n",
    "# output: poria"
   ]
  },
  {
   "cell_type": "markdown",
   "metadata": {},
   "source": [
    "#### شرط های تو در تو"
   ]
  },
  {
   "cell_type": "code",
   "execution_count": null,
   "metadata": {},
   "outputs": [],
   "source": [
    "name = \"poria\"\n",
    "if \"p\" in name:\n",
    "    if name == \"poria\":\n",
    "        if len(name) == 5:\n",
    "            print(\"OK\")\n",
    "else:\n",
    "    print(\"NO\")\n",
    "# output: OK\n",
    "\n",
    "# ----------------------------------------\n",
    "\n",
    "name = \"poria\"\n",
    "if \"p\" in name:\n",
    "    if name == \"ali\":\n",
    "        if len(name) == 5:\n",
    "            print(\"OK\")\n",
    "        else:\n",
    "            print(len(name))\n",
    "    else:\n",
    "        print(\"poria\")\n",
    "else:\n",
    "    print(\"NO\")\n",
    "# output: poria\n",
    "\n",
    "# ----------------------------------------\n",
    "\n",
    "name = \"poria\"\n",
    "if \"p\" in name:\n",
    "    if name == \"poria\":\n",
    "        if len(name) == 4:\n",
    "            print(\"OK\")\n",
    "        else:\n",
    "            print(len(name))\n",
    "    else:\n",
    "        print(\"poria\")\n",
    "else:\n",
    "    print(\"NO\")\n",
    "# output: 5\n",
    "\n",
    "# ----------------------------------------\n",
    "\n",
    "name = \"poria\"\n",
    "if \"s\" in name:\n",
    "    if name == \"ali\":\n",
    "        if len(name) == 4:\n",
    "            print(\"OK\")\n",
    "        else:\n",
    "            print(len(name))\n",
    "    else:\n",
    "        print(\"poria\")\n",
    "else:\n",
    "    print(\"NO\")\n",
    "# output: NO"
   ]
  },
  {
   "cell_type": "markdown",
   "metadata": {},
   "source": [
    "### استفاده از چندین شرط \n",
    "### if"
   ]
  },
  {
   "cell_type": "code",
   "execution_count": null,
   "metadata": {},
   "outputs": [],
   "source": [
    "name = \"poria\"\n",
    "\n",
    "if name == \"ali\":\n",
    "    print(\"ali\")\n",
    "\n",
    "if \"p\" in name:\n",
    "    print(\"p in name\")\n",
    "\n",
    "if name == \"poria\":\n",
    "    print(\"poria\")\n",
    "    \n",
    "if len(name) == 4:\n",
    "    print(\"chr count name is 4\")\n",
    "\n",
    "# output: p in name\n",
    "#         poria"
   ]
  }
 ],
 "metadata": {
  "kernelspec": {
   "display_name": "Python 3",
   "language": "python",
   "name": "python3"
  },
  "language_info": {
   "codemirror_mode": {
    "name": "ipython",
    "version": 3
   },
   "file_extension": ".py",
   "mimetype": "text/x-python",
   "name": "python",
   "nbconvert_exporter": "python",
   "pygments_lexer": "ipython3",
   "version": "3.10.10"
  },
  "orig_nbformat": 4
 },
 "nbformat": 4,
 "nbformat_minor": 2
}
