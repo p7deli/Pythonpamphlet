{
 "cells": [
  {
   "cell_type": "markdown",
   "metadata": {},
   "source": [
    "#### حل چند مثال از حلقه for"
   ]
  },
  {
   "cell_type": "code",
   "execution_count": null,
   "metadata": {},
   "outputs": [],
   "source": [
    "# برنامه ای بنویسید که با استفاده از کدهای داخل لیست کاراکتر آن را نمایش دهید\n",
    "\n",
    "List = [67, 59, 123, 25, 17, 196, 36]\n",
    "for num in List:\n",
    "    print(chr(num), end=\" - \")\n",
    "# output: C - ; - { - \u0019 - \u0011 - Ä - $ -"
   ]
  },
  {
   "cell_type": "markdown",
   "metadata": {},
   "source": [
    "#### else and break"
   ]
  },
  {
   "cell_type": "code",
   "execution_count": null,
   "metadata": {},
   "outputs": [],
   "source": [
    "List = [67, 59, 123, 25, 17, 196, 36]\n",
    "for num in List:\n",
    "    if chr(num) == \"{\":\n",
    "        break\n",
    "    else:\n",
    "        print(chr(num), end=\" - \")\n",
    "else:\n",
    "    print(\"\\nOK\")\n",
    "# output: C - ; -"
   ]
  },
  {
   "cell_type": "code",
   "execution_count": null,
   "metadata": {},
   "outputs": [],
   "source": [
    "List = [67, 59, 123, 25, 17, 196, 36]\n",
    "for num in List:\n",
    "    if chr(num) == \"p\":\n",
    "        break\n",
    "    else:\n",
    "        print(chr(num), end=\" - \")\n",
    "else:\n",
    "    print(\"\\nelse done\")\n",
    "# output: C - ; - { - \u0019 - \u0011 - Ä - $ - \n",
    "#         else done"
   ]
  },
  {
   "cell_type": "markdown",
   "metadata": {},
   "source": [
    "#### else and continue"
   ]
  },
  {
   "cell_type": "code",
   "execution_count": null,
   "metadata": {},
   "outputs": [],
   "source": [
    "List = [67, 59, 123, 25, 17, 196, 36]\n",
    "for num in List:\n",
    "    if chr(num) == \"{\":\n",
    "        continue\n",
    "    else:\n",
    "        print(chr(num), end=\" - \")\n",
    "else:\n",
    "    print(\"\\nelse done\")\n",
    "# output: C - ; - \u0019 - \u0011 - Ä - $ - \n",
    "#         else done"
   ]
  },
  {
   "cell_type": "markdown",
   "metadata": {},
   "source": [
    "#### جدول ضرب 10 در 10"
   ]
  },
  {
   "cell_type": "code",
   "execution_count": null,
   "metadata": {},
   "outputs": [],
   "source": [
    "for i in range(1, 10):\n",
    "    for j in range(1, 10):\n",
    "        print(i*j, end=\"\\t\")\n",
    "    print()\n",
    "\n",
    "# output: 1\t   2\t3\t4\t5\t6\t7\t8\t9\t\n",
    "#         2\t   4\t6\t8\t10\t12\t14\t16\t18\t\n",
    "#         3\t   6\t9\t12\t15\t18\t21\t24\t27\t\n",
    "#         4    8\t12\t16\t20\t24\t28\t32\t36\t\n",
    "#         5\t   10\t15\t20\t25\t30\t35\t40\t45\t\n",
    "#         6\t   12\t18\t24\t30\t36\t42\t48\t54\t\n",
    "#         7\t   14\t21\t28\t35\t42\t49\t56\t63\t\n",
    "#         8\t   16\t24\t32\t40\t48\t56\t64\t72\t\n",
    "#         9\t   18\t27\t36\t45\t54\t63\t72\t81"
   ]
  },
  {
   "cell_type": "code",
   "execution_count": null,
   "metadata": {},
   "outputs": [],
   "source": [
    "List = [[1, 2, 3], [4, 5, 6], [7, 8, 9]]\n",
    "for a,b,c in List:\n",
    "    print(a)\n",
    "    print(b)\n",
    "    print(c)\n",
    "    print(10*\"*\")\n",
    "\n",
    "# output: 1\n",
    "#         2\n",
    "#         3\n",
    "#         **********\n",
    "#         4\n",
    "#         5\n",
    "#         6\n",
    "#         **********\n",
    "#         7\n",
    "#         8\n",
    "#         9\n",
    "#         **********"
   ]
  },
  {
   "cell_type": "code",
   "execution_count": null,
   "metadata": {},
   "outputs": [],
   "source": [
    "List = [[1, 2, 3], [4, 5, 6], [7, 8, 9]]\n",
    "for a,b,c in List:\n",
    "    print(a, end=\" \")\n",
    "    print(b, end=\" \")\n",
    "    print(c, end=\" \")\n",
    "    print(\"\\n\"+10*\"*\")\n",
    "\n",
    "# output: 1 2 3 \n",
    "#         **********\n",
    "#         4 5 6 \n",
    "#         **********\n",
    "#         7 8 9 \n",
    "#         **********"
   ]
  },
  {
   "cell_type": "code",
   "execution_count": null,
   "metadata": {},
   "outputs": [],
   "source": [
    "List = [[1, 2, 3, 4], [5, 6, 7, 8], [9, 10, 11, 12]]\n",
    "for a,b,*c in List:\n",
    "    print(a, end=\" \")\n",
    "    print(b, end=\" \")\n",
    "    print(c, end=\" \")\n",
    "    print(\"\\n\"+10*\"*\")\n",
    "\n",
    "# output: 1 2 [3, 4] \n",
    "#         **********\n",
    "#         5 6 [7, 8] \n",
    "#         **********\n",
    "#         9 10 [11, 12] \n",
    "#         **********\n",
    "\n",
    "List = [[1, 2, 3, 4], [5, 6, 7, 8], [9, 10, 11, 12]]\n",
    "for a,*b,c in List:\n",
    "    print(a, end=\" \")\n",
    "    print(b, end=\" \")\n",
    "    print(c, end=\" \")\n",
    "    print(\"\\n\"+10*\"*\")\n",
    "\n",
    "# output: 1 [2, 3] 4 \n",
    "#         **********\n",
    "#         5 [6, 7] 8 \n",
    "#         **********\n",
    "#         9 [10, 11] 12 \n",
    "#         **********\n",
    "\n",
    "List = [[1, 2, 3, 4], [5, 6, 7, 8], [9, 10, 11, 12]]\n",
    "for *a,b,c in List:\n",
    "    print(a, end=\" \")\n",
    "    print(b, end=\" \")\n",
    "    print(c, end=\" \")\n",
    "    print(\"\\n\"+10*\"*\")\n",
    "\n",
    "# output: [1, 2] 3 4 \n",
    "#         **********\n",
    "#         [5, 6] 7 8 \n",
    "#         **********\n",
    "#         [9, 10] 11 12 \n",
    "#         **********"
   ]
  },
  {
   "cell_type": "code",
   "execution_count": null,
   "metadata": {},
   "outputs": [],
   "source": [
    "Dic = {\"poria\": 15, \"ali\": 20, \"mmd\": 16}\n",
    "for name, number in Dic.items():\n",
    "    print(f\"name: {name}\\nnumber: {number}\\n{20*'*'}\")\n",
    "\n",
    "# output: name: poria\n",
    "#         number: 15\n",
    "#         ********************\n",
    "#         name: ali\n",
    "#         number: 20\n",
    "#         ********************\n",
    "#         name: mmd\n",
    "#         number: 16\n",
    "#         ********************"
   ]
  }
 ],
 "metadata": {
  "kernelspec": {
   "display_name": "Python 3",
   "language": "python",
   "name": "python3"
  },
  "language_info": {
   "codemirror_mode": {
    "name": "ipython",
    "version": 3
   },
   "file_extension": ".py",
   "mimetype": "text/x-python",
   "name": "python",
   "nbconvert_exporter": "python",
   "pygments_lexer": "ipython3",
   "version": "3.10.10"
  },
  "orig_nbformat": 4
 },
 "nbformat": 4,
 "nbformat_minor": 2
}
