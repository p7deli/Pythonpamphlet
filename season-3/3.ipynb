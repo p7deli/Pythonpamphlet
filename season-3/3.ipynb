{
 "cells": [
  {
   "cell_type": "markdown",
   "metadata": {},
   "source": [
    "### حلقه های تو در تو"
   ]
  },
  {
   "cell_type": "code",
   "execution_count": null,
   "metadata": {},
   "outputs": [],
   "source": [
    "# Loop1\n",
    "i = 1\n",
    "while i <= 5:\n",
    "    # Loop2\n",
    "    j = 1\n",
    "    while j <= 5:\n",
    "        \n",
    "        print(j, end=\" \")\n",
    "        j += 1\n",
    "        \n",
    "    print()\n",
    "    \n",
    "    print(i, end=\" \")\n",
    "    i += 1\n",
    "\n",
    "# output: 1 2 3 4 5 \n",
    "#         1 1 2 3 4 5 \n",
    "#         2 1 2 3 4 5 \n",
    "#         3 1 2 3 4 5 \n",
    "#         4 1 2 3 4 5 \n",
    "#         5 "
   ]
  },
  {
   "cell_type": "code",
   "execution_count": null,
   "metadata": {},
   "outputs": [],
   "source": [
    "# یک جدول ضرب 5 * 5 بنویسید\n",
    "\n",
    "i = 1\n",
    "while i <= 5:\n",
    "    j = 1\n",
    "    while j <= 5:\n",
    "        print(i * j, end=\"\\t\")\n",
    "        j += 1\n",
    "    i += 1\n",
    "    print()\n",
    "\n",
    "# output: 1    2\t3\t4\t5\t\n",
    "#         2\t   4\t6\t8\t10\t\n",
    "#         3\t   6\t9\t12\t15\t\n",
    "#         4\t   8\t12\t16\t20\t\n",
    "#         5\t   10\t15\t20\t25"
   ]
  },
  {
   "cell_type": "code",
   "execution_count": null,
   "metadata": {},
   "outputs": [],
   "source": [
    "# عناصر داحل لیست را بطوری نمایش دهید که حروف آن ها یکی در میون بزرگ و کوچیک باشند\n",
    "\n",
    "List = [\"poria\", \"ali\", \"reza\", \"sahar\", \"maryam\"]\n",
    "\n",
    "i = 0\n",
    "while i < len(List):\n",
    "    name = List[i]\n",
    "    \n",
    "    j = 0\n",
    "    while j < len(name):\n",
    "        \n",
    "        if j % 2 == 0:\n",
    "            print(name[j].upper(), end=\"\")\n",
    "        else:\n",
    "            print(name[j], end=\"\")\n",
    "        \n",
    "        j += 1\n",
    "    \n",
    "    print()\n",
    "    i += 1\n",
    "\n",
    "# output: PoRiA\n",
    "#         AlI\n",
    "#         ReZa\n",
    "#         SaHaR\n",
    "#         MaRyAm"
   ]
  }
 ],
 "metadata": {
  "kernelspec": {
   "display_name": "Python 3",
   "language": "python",
   "name": "python3"
  },
  "language_info": {
   "codemirror_mode": {
    "name": "ipython",
    "version": 3
   },
   "file_extension": ".py",
   "mimetype": "text/x-python",
   "name": "python",
   "nbconvert_exporter": "python",
   "pygments_lexer": "ipython3",
   "version": "3.10.10"
  },
  "orig_nbformat": 4
 },
 "nbformat": 4,
 "nbformat_minor": 2
}
