{
 "cells": [
  {
   "cell_type": "markdown",
   "metadata": {},
   "source": [
    "### حلقه for"
   ]
  },
  {
   "cell_type": "markdown",
   "metadata": {},
   "source": [
    "##### . حلقه for: در این نوع حلقه، بلاک کد برای هر عضو از یک دنباله (مانند لیست یا رشته) تکرار می‌شود. همچنین می‌توان از تابع range() نیز برای تولید دنباله‌ای از اعداد استفاده کرد"
   ]
  },
  {
   "cell_type": "code",
   "execution_count": null,
   "metadata": {},
   "outputs": [],
   "source": [
    "numbers = [1, 2, 3, 4, 5]\n",
    "for number in numbers:\n",
    "    print(number, end=\" \")\n",
    "# output: 1 2 3 4 5\n",
    "\n",
    "Dic = {\"poria\": 14, \"ali\": 12, \"mmd\": 15}\n",
    "for name in Dic.keys():\n",
    "    print(f\"name: {name} ----- number: {Dic[name]}\")\n",
    "\n",
    "# output: name: poria ----- number: 14\n",
    "#         name: ali ----- number: 12\n",
    "#         name: mmd ----- number: 15\n",
    "\n",
    "number = \"2465497\"\n",
    "for i in range(len(number)):\n",
    "    print(number[i], end=\" \")\n",
    "\n",
    "# output: 2 4 6 5 4 9 7\n",
    "\n",
    "for i in range(5):\n",
    "    print(i, end=\" \")\n",
    "# output: 0 1 2 3 4"
   ]
  },
  {
   "cell_type": "markdown",
   "metadata": {},
   "source": [
    "##### حلقه for با استفاده از تابع enumerate(): در این نوع حلقه، همچنین می‌توان به هر عضو از دنباله، شماره‌ی ایندکس آن را نیز دسترسی داشت."
   ]
  },
  {
   "cell_type": "code",
   "execution_count": null,
   "metadata": {},
   "outputs": [],
   "source": [
    "numbers = [1, 2, 3, 4, 5]\n",
    "for index, number in enumerate(numbers):\n",
    "    print(f\"Index: {index}, Number: {number}\")\n",
    "\n",
    "# output: Index: 0, Number: 1\n",
    "#         Index: 1, Number: 2\n",
    "#         Index: 2, Number: 3\n",
    "#         Index: 3, Number: 4\n",
    "#         Index: 4, Number: 5"
   ]
  },
  {
   "cell_type": "markdown",
   "metadata": {},
   "source": [
    "##### حلقه for با استفاده از تابع zip(): در این نوع حلقه، می‌توان بر روی دو دنباله به صورت همزمان تکرار کرد و به عضو متناظر هر دنباله دسترسی داشت."
   ]
  },
  {
   "cell_type": "code",
   "execution_count": null,
   "metadata": {},
   "outputs": [],
   "source": [
    "names = [\"Alice\", \"Bob\", \"Charlie\"]\n",
    "ages = [25, 30, 35]\n",
    "\n",
    "for name, age in zip(names, ages):\n",
    "    print(f\"Name: {name}, Age: {age}\")\n",
    "\n",
    "# output: Name: Alice, Age: 25\n",
    "#         Name: Bob, Age: 30\n",
    "#         Name: Charlie, Age: 35"
   ]
  }
 ],
 "metadata": {
  "kernelspec": {
   "display_name": "Python 3",
   "language": "python",
   "name": "python3"
  },
  "language_info": {
   "codemirror_mode": {
    "name": "ipython",
    "version": 3
   },
   "file_extension": ".py",
   "mimetype": "text/x-python",
   "name": "python",
   "nbconvert_exporter": "python",
   "pygments_lexer": "ipython3",
   "version": "3.10.10"
  },
  "orig_nbformat": 4
 },
 "nbformat": 4,
 "nbformat_minor": 2
}
