{
 "cells": [
  {
   "cell_type": "markdown",
   "metadata": {},
   "source": [
    "### چند نمونه مثال از حلقه while\n",
    "### با استفاده از break"
   ]
  },
  {
   "cell_type": "code",
   "execution_count": null,
   "metadata": {},
   "outputs": [],
   "source": [
    "# برنامه ای بنویسید که از 1 تا 100 حرکت کند و تا عددی که کاربر وارد میکند چاپ کند\n",
    "number = int(input(\"Enter number: \"))\n",
    "if 1 <= number <= 100:\n",
    "    i = 1\n",
    "    while i <= 10:\n",
    "        print(i, end=\" \")\n",
    "        if i == number:\n",
    "            break\n",
    "        i += 1\n",
    "else:\n",
    "    print(\"Your number must be between 1 and 100\")\n",
    "\n",
    "# input: 5\n",
    "# output: 1 2 3 4 5\n"
   ]
  },
  {
   "cell_type": "code",
   "execution_count": null,
   "metadata": {},
   "outputs": [],
   "source": [
    "# برنامه ای بنویسید که کاربر تا وقتی نگفته توقث نکنه و اعدادی که داده رو با هم جمع کنه\n",
    "Sum = 0\n",
    "while True:\n",
    "    number = int(input(\"Enter number: \"))\n",
    "    Sum += number\n",
    "    ques = input(\"Do you continue(yes or no): \").lower()\n",
    "    if ques == \"no\":\n",
    "        break\n",
    "print(f\"Sum of numbers: {Sum}\")\n",
    "\n",
    "# input: 5\n",
    "# input: 25\n",
    "# input: 14\n",
    "# output: Sum of numbers: 44"
   ]
  },
  {
   "cell_type": "markdown",
   "metadata": {},
   "source": [
    "### با استفاده از continue"
   ]
  },
  {
   "cell_type": "code",
   "execution_count": null,
   "metadata": {},
   "outputs": [],
   "source": [
    "# برنامه ای بنویسید که از یک تا 5 چاپ کند ولی 2 را چاپ نکند\n",
    "i = 0\n",
    "while i < 5:\n",
    "    i += 1\n",
    "    if i == 2:\n",
    "        continue\n",
    "    print(i, end=\" \")\n",
    "# output: 1 3 4 5"
   ]
  },
  {
   "cell_type": "code",
   "execution_count": null,
   "metadata": {},
   "outputs": [],
   "source": [
    "# برنامه ای بنویسید که کاربر تا وقتی نگفته توقث نکنه و اعدادی که داده رو با هم جمع کنه\n",
    "Sum = 0\n",
    "while True:\n",
    "    number = int(input(\"Enter number: \"))\n",
    "    Sum += number\n",
    "    ques = input(\"Do you continue(yes or no): \").lower()\n",
    "    if ques == \"yes\":\n",
    "        continue\n",
    "    elif ques == \"no\":\n",
    "        break\n",
    "print(f\"Sum of numbers: {Sum}\")\n",
    "\n",
    "# input: 5\n",
    "# input: 25\n",
    "# input: 14\n",
    "# output: Sum of numbers: 44"
   ]
  },
  {
   "cell_type": "markdown",
   "metadata": {},
   "source": [
    "### با استفاده از else"
   ]
  },
  {
   "cell_type": "markdown",
   "metadata": {},
   "source": [
    "##### break تازمانی که داخل حلقه \n",
    "##### انجام نشه\n",
    "##### else کار میکنه"
   ]
  },
  {
   "cell_type": "code",
   "execution_count": null,
   "metadata": {},
   "outputs": [],
   "source": [
    "# برنامه ای بنویسید که کاربر یک عدد وارد کند و مشخص کنید اول است یا خیر\n",
    "\n",
    "number = int(input(\"Enter number: \"))\n",
    "\n",
    "i = 2\n",
    "if number > 1:\n",
    "    while i < number:\n",
    "        if number % i == 0:\n",
    "            print(f\"{number} is not a prime number\")\n",
    "            break\n",
    "        i += 1\n",
    "    else:\n",
    "        print(f\"{number} is a prime number\")\n",
    "else:\n",
    "    print(f\"{number} is not a prime number\")\n",
    "\n",
    "# input: 13\n",
    "# output: 13 is a prime number"
   ]
  }
 ],
 "metadata": {
  "kernelspec": {
   "display_name": "Python 3",
   "language": "python",
   "name": "python3"
  },
  "language_info": {
   "codemirror_mode": {
    "name": "ipython",
    "version": 3
   },
   "file_extension": ".py",
   "mimetype": "text/x-python",
   "name": "python",
   "nbconvert_exporter": "python",
   "pygments_lexer": "ipython3",
   "version": "3.10.10"
  },
  "orig_nbformat": 4
 },
 "nbformat": 4,
 "nbformat_minor": 2
}
